{
 "cells": [
  {
   "cell_type": "markdown",
   "id": "interested-administrator",
   "metadata": {},
   "source": [
    "# 作業"
   ]
  },
  {
   "cell_type": "markdown",
   "id": "silver-probe",
   "metadata": {},
   "source": [
    "## 1.在速度較慢的時候，可以先從哪邊開始檢查？ "
   ]
  },
  {
   "cell_type": "code",
   "execution_count": null,
   "id": "excellent-quantity",
   "metadata": {},
   "outputs": [],
   "source": [
    "程式碼是否用pandas的內建程式碼或向量化運算"
   ]
  },
  {
   "cell_type": "markdown",
   "id": "smaller-valley",
   "metadata": {},
   "source": [
    "## 2.資料過⼤時應採取什麼⽅式讓記憶體占⽤量下降？\n"
   ]
  },
  {
   "cell_type": "code",
   "execution_count": null,
   "id": "surprised-silly",
   "metadata": {},
   "outputs": [],
   "source": [
    "downcast"
   ]
  }
 ],
 "metadata": {
  "kernelspec": {
   "display_name": "Python 3",
   "language": "python",
   "name": "python3"
  },
  "language_info": {
   "codemirror_mode": {
    "name": "ipython",
    "version": 3
   },
   "file_extension": ".py",
   "mimetype": "text/x-python",
   "name": "python",
   "nbconvert_exporter": "python",
   "pygments_lexer": "ipython3",
   "version": "3.7.3"
  }
 },
 "nbformat": 4,
 "nbformat_minor": 5
}
