{
 "cells": [
  {
   "cell_type": "markdown",
   "metadata": {
    "id": "oef8c2jr-PZY"
   },
   "source": [
    "作業目標<br>\n",
    "計算有缺失值的資料，統計量實作<br>\n",
    "作業重點<br>\n",
    "當遇到缺失值有函式可以處理，不須額外寫程式刪除<br>\n",
    "計算統計量時不能出現缺失值"
   ]
  },
  {
   "cell_type": "markdown",
   "metadata": {
    "id": "4YgL8NF4-Ru3"
   },
   "source": [
    "題目:<br>\n",
    "english_score = np.array([55,89,76,65,48,70])<br>\n",
    "math_score = np.array([60,85,60,68,np.nan,60])<br>\n",
    "chinese_score = np.array([65,90,82,72,66,77])<br>\n",
    "上3列共六位同學的英文、數學、國文成績，第一個元素代表第一位同學，舉例第一位同學英文55分、數學60分、國文65分，今天第五位同學因某原因沒來考試，導致數學成績缺值，運用上列數據回答下列問題。<br>\n",
    "1. 請計算各科成績平均、最大值、最小值、標準差，其中數學缺一筆資料可忽略?\n",
    "2. 第五位同學補考數學後成績為55，請計算補考後數學成績平均、最大值、最小值、標準差?\n",
    "3. 用補考後資料找出與國文成績相關係數最高的學科?"
   ]
  },
  {
   "cell_type": "code",
   "execution_count": 1,
   "metadata": {
    "executionInfo": {
     "elapsed": 617,
     "status": "ok",
     "timestamp": 1609854566856,
     "user": {
      "displayName": "献竤黃",
      "photoUrl": "",
      "userId": "07529243043474362942"
     },
     "user_tz": -480
    },
    "id": "QwsKU8qO-RK7"
   },
   "outputs": [],
   "source": [
    "import numpy as np"
   ]
  },
  {
   "cell_type": "code",
   "execution_count": 2,
   "metadata": {
    "executionInfo": {
     "elapsed": 1016,
     "status": "ok",
     "timestamp": 1609854567261,
     "user": {
      "displayName": "献竤黃",
      "photoUrl": "",
      "userId": "07529243043474362942"
     },
     "user_tz": -480
    },
    "id": "B5BqDQAe_czh"
   },
   "outputs": [],
   "source": [
    "english_score = np.array([55,89,76,65,48,70])\n",
    "math_score = np.array([60,85,60,68,np.nan,60])\n",
    "chinese_score = np.array([65,90,82,72,66,77])"
   ]
  },
  {
   "cell_type": "code",
   "execution_count": 3,
   "metadata": {
    "executionInfo": {
     "elapsed": 1005,
     "status": "ok",
     "timestamp": 1609854567262,
     "user": {
      "displayName": "献竤黃",
      "photoUrl": "",
      "userId": "07529243043474362942"
     },
     "user_tz": -480
    },
    "id": "K3tUA6u9aI3N"
   },
   "outputs": [],
   "source": [
    "#1. 請計算各科成績平均、最大值、最小值、標準差，其中數學缺一筆資料可忽略?"
   ]
  },
  {
   "cell_type": "code",
   "execution_count": 4,
   "metadata": {},
   "outputs": [
    {
     "name": "stdout",
     "output_type": "stream",
     "text": [
      "English_score 平均數 : 67.17 , 最大值 : 89 , 最小值 : 48 , 標準差 : 13.43\n",
      " \n",
      "Math_score 平均數 : 66.6 , 最大值 : 85.0 , 最小值 : 60.0 , 標準差 : 9.71\n",
      " \n",
      "chinese_score 平均數 : 75.33 , 最大值 : 90 , 最小值 : 65 , 標準差 : 8.83\n"
     ]
    }
   ],
   "source": [
    "print('English_score 平均數 :', english_score.mean().round(decimals=2),', 最大值 :', english_score.max(), ', 最小值 :',\n",
    "      english_score.min(), ', 標準差 :', english_score.std().round(decimals=2))\n",
    "print(\" \")\n",
    "print('Math_score 平均數 :', np.nanmean(math_score).round(decimals=2),', 最大值 :', np.nanmax(math_score), ', 最小值 :',\n",
    "      np.nanmin(math_score), ', 標準差 :', np.nanstd(math_score).round(decimals=2))\n",
    "print(\" \")\n",
    "print('chinese_score 平均數 :', chinese_score.mean().round(decimals=2),', 最大值 :', chinese_score.max(), ', 最小值 :',\n",
    "      chinese_score.min(), ', 標準差 :', chinese_score.std().round(decimals=2))"
   ]
  },
  {
   "cell_type": "code",
   "execution_count": 5,
   "metadata": {
    "executionInfo": {
     "elapsed": 996,
     "status": "ok",
     "timestamp": 1609854567262,
     "user": {
      "displayName": "献竤黃",
      "photoUrl": "",
      "userId": "07529243043474362942"
     },
     "user_tz": -480
    },
    "id": "mXjDzvSrbLlf"
   },
   "outputs": [],
   "source": [
    "#2. 第五位同學補考數學後成績為55，請計算補考後數學成績平均、最大值、最小值、標準差?"
   ]
  },
  {
   "cell_type": "code",
   "execution_count": 6,
   "metadata": {},
   "outputs": [],
   "source": [
    "where_is_na = np.isnan(math_score)\n",
    "math_score[where_is_na] = 55"
   ]
  },
  {
   "cell_type": "code",
   "execution_count": 7,
   "metadata": {},
   "outputs": [
    {
     "name": "stdout",
     "output_type": "stream",
     "text": [
      "Math_score 平均數 : 64.67 , 最大值 : 85.0 , 最小值 : 55.0 , 標準差 : 9.86\n"
     ]
    }
   ],
   "source": [
    "print('Math_score 平均數 :', np.nanmean(math_score).round(decimals=2),', 最大值 :', np.nanmax(math_score), ', 最小值 :',\n",
    "      np.nanmin(math_score), ', 標準差 :', np.nanstd(math_score).round(decimals=2))"
   ]
  },
  {
   "cell_type": "code",
   "execution_count": 8,
   "metadata": {
    "executionInfo": {
     "elapsed": 989,
     "status": "ok",
     "timestamp": 1609854567264,
     "user": {
      "displayName": "献竤黃",
      "photoUrl": "",
      "userId": "07529243043474362942"
     },
     "user_tz": -480
    },
    "id": "SaGolKx0cKoU"
   },
   "outputs": [],
   "source": [
    "#3. 用補考後資料找出與國文成績相關係數最高的學科?\n",
    "\n",
    "# Ans : 英文"
   ]
  },
  {
   "cell_type": "code",
   "execution_count": 9,
   "metadata": {},
   "outputs": [
    {
     "data": {
      "text/plain": [
       "array([[1.        , 0.74056803],\n",
       "       [0.74056803, 1.        ]])"
      ]
     },
     "execution_count": 9,
     "metadata": {},
     "output_type": "execute_result"
    }
   ],
   "source": [
    "np.corrcoef(chinese_score, math_score)"
   ]
  },
  {
   "cell_type": "code",
   "execution_count": 10,
   "metadata": {},
   "outputs": [
    {
     "data": {
      "text/plain": [
       "array([[1.        , 0.97792828],\n",
       "       [0.97792828, 1.        ]])"
      ]
     },
     "execution_count": 10,
     "metadata": {},
     "output_type": "execute_result"
    }
   ],
   "source": [
    "np.corrcoef(chinese_score, english_score)"
   ]
  }
 ],
 "metadata": {
  "colab": {
   "authorship_tag": "ABX9TyPtywwDR7TsGGEOMGYLDT5h",
   "collapsed_sections": [],
   "name": "作業Hong題目.ipynb",
   "provenance": []
  },
  "kernelspec": {
   "display_name": "Python 3",
   "language": "python",
   "name": "python3"
  },
  "language_info": {
   "codemirror_mode": {
    "name": "ipython",
    "version": 3
   },
   "file_extension": ".py",
   "mimetype": "text/x-python",
   "name": "python",
   "nbconvert_exporter": "python",
   "pygments_lexer": "ipython3",
   "version": "3.7.3"
  }
 },
 "nbformat": 4,
 "nbformat_minor": 1
}
